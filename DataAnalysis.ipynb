{
 "cells": [
  {
   "cell_type": "markdown",
   "metadata": {
    "id": "QfZkNLUb4B-p"
   },
   "source": [
    "# This file finds the ATE and runs a sensitivity analysis on cleaned data"
   ]
  },
  {
   "cell_type": "code",
   "execution_count": 1,
   "metadata": {
    "id": "dS2X3Bq1-fxE"
   },
   "outputs": [],
   "source": [
    "import numpy as np\n",
    "import pandas as pd\n",
    "import scipy as sp\n",
    "from sklearn import preprocessing\n",
    "from sklearn.neural_network import MLPRegressor, MLPClassifier\n",
    "from sklearn.ensemble import RandomForestClassifier, RandomForestRegressor, GradientBoostingRegressor, GradientBoostingClassifier\n",
    "from sklearn.linear_model import LogisticRegression, LinearRegression\n",
    "from sklearn.model_selection import KFold, StratifiedKFold, train_test_split\n",
    "from sklearn.metrics import mean_squared_error, log_loss\n",
    "import sklearn\n",
    "import os\n",
    "import pathlib\n",
    "import matplotlib.pyplot as plt\n",
    "from austen_plots.AustenPlot import AustenPlot"
   ]
  },
  {
   "cell_type": "code",
   "execution_count": 2,
   "metadata": {
    "id": "zNsGKVyLSRxn"
   },
   "outputs": [],
   "source": [
    "RANDOM_SEED = 42\n",
    "np.random.seed(RANDOM_SEED)"
   ]
  },
  {
   "cell_type": "markdown",
   "metadata": {
    "id": "H0YG8hR8RRAP"
   },
   "source": [
    "# Data Loading and Initial Fit\n",
    "\n",
    "Load the data"
   ]
  },
  {
   "cell_type": "markdown",
   "metadata": {
    "id": "yPbJeayiEs3u"
   },
   "source": [
    "##Just change the file read in to replicate results for other data setups."
   ]
  },
  {
   "cell_type": "code",
   "execution_count": 190,
   "metadata": {
    "id": "2AC9TPko-hbt"
   },
   "outputs": [],
   "source": [
    "data = pd.read_csv('cleaned_liquor_data_0.4km-circles.csv', sep='\\t').dropna().reset_index(drop=True)"
   ]
  },
  {
   "cell_type": "code",
   "execution_count": 169,
   "metadata": {},
   "outputs": [],
   "source": [
    "data[\"Year\"] = data.apply(lambda row: row['DATE ISSUED'].split('-')[0], axis=1).dropna()"
   ]
  },
  {
   "cell_type": "code",
   "execution_count": 170,
   "metadata": {
    "id": "fW3FdK8rJNHM"
   },
   "outputs": [],
   "source": [
    "# scale continuous covariates\n",
    "cont_vars = ['PERCENT OF HOUSING CROWDED', 'PERCENT HOUSEHOLDS BELOW POVERTY',\n",
    "       'PERCENT AGED 16+ UNEMPLOYED', 'PERCENT AGED 25+ WITHOUT HIGH SCHOOL DIPLOMA',\n",
    "       'PERCENT AGED UNDER 18 OR OVER 64', 'PER CAPITA INCOME ',\n",
    "       'HARDSHIP INDEX', 'Birth Rate', 'General Fertility Rate',\n",
    "       'Low Birth Weight', 'Prenatal Care Beginning in First Trimester',\n",
    "        'Preterm Births', 'Teen Birth Rate', 'Breast cancer in females',\n",
    "       'Cancer (All Sites)', 'Colorectal Cancer', 'Diabetes-related',\n",
    "       'Infant Mortality Rate', 'Lung Cancer', 'Prostate Cancer in Males',\n",
    "       'Stroke (Cerebrovascular Disease)', 'Childhood Blood Lead Level Screening',\n",
    "        'Childhood Lead Poisoning', 'Tuberculosis',\n",
    "       'Below Poverty Level', 'Crowded Housing', 'Dependency', \"Year\",\n",
    "       'No High School Diploma', 'Per Capita Income', 'Unemployment', 'num old crimes']\n",
    "\n",
    "data[cont_vars] = preprocessing.scale(data[cont_vars])"
   ]
  },
  {
   "cell_type": "code",
   "execution_count": 171,
   "metadata": {
    "id": "APOqpHmrOGzo"
   },
   "outputs": [],
   "source": [
    "confounders = data[['PERCENT OF HOUSING CROWDED', 'PERCENT HOUSEHOLDS BELOW POVERTY',\n",
    "       'PERCENT AGED 16+ UNEMPLOYED', 'PERCENT AGED 25+ WITHOUT HIGH SCHOOL DIPLOMA',\n",
    "       'PERCENT AGED UNDER 18 OR OVER 64', 'Unemployment', 'PER CAPITA INCOME ', 'Crowded Housing',\n",
    "       'Below Poverty Level', 'Dependency',\n",
    "       'No High School Diploma', 'HARDSHIP INDEX', 'Birth Rate', 'General Fertility Rate',\n",
    "       'Low Birth Weight', 'Prenatal Care Beginning in First Trimester',\n",
    "       'Preterm Births', 'Teen Birth Rate', 'Breast cancer in females',\n",
    "       'Cancer (All Sites)', 'Colorectal Cancer', 'Diabetes-related',\n",
    "       'Infant Mortality Rate', 'Lung Cancer', 'Prostate Cancer in Males',\n",
    "       'Stroke (Cerebrovascular Disease)', \"Year\",\n",
    "       'Childhood Blood Lead Level Screening', 'Childhood Lead Poisoning', 'Tuberculosis',\n",
    "       'num old crimes']]\n",
    "outcome = data['CHANGE IN CRIMES']\n",
    "treatment = data['IS TREATED']"
   ]
  },
  {
   "cell_type": "markdown",
   "metadata": {
    "id": "C576dWRsa3ad"
   },
   "source": [
    "## Specify Nuisance Function Models\n",
    "\n",
    "The next step is to specify models for the conditional expected outcome and propensity score"
   ]
  },
  {
   "cell_type": "code",
   "execution_count": 191,
   "metadata": {
    "id": "qyOhSZRQRb8W"
   },
   "outputs": [
    {
     "name": "stdout",
     "output_type": "stream",
     "text": [
      "Test MSE of fit model 150120.07550602488\n",
      "Test MSE of no-covariate model 173598.58415713152\n"
     ]
    }
   ],
   "source": [
    "# specify a model for the conditional expected outcome\n",
    "\n",
    "# make a function that returns a sklearn model for later use in k-folding\n",
    "def make_Q_model():\n",
    "    # return MLPRegressor(hidden_layer_sizes=(80,20), max_iter=500, learning_rate ='adaptive', random_state=RANDOM_SEED)\n",
    "  return LinearRegression()\n",
    "  # return RandomForestRegressor(random_state=RANDOM_SEED, n_estimators=200, max_depth=None)\n",
    "  # return GradientBoostingRegressor(random_state=RANDOM_SEED, n_estimators=200, max_depth=5)\n",
    "Q_model = make_Q_model()\n",
    "\n",
    "# Sanity check that chosen model actually improves test error\n",
    "# A real analysis should give substantial attention to model selection and validation \n",
    "\n",
    "X_w_treatment = confounders.copy()\n",
    "X_w_treatment[\"treatment\"] = treatment\n",
    "\n",
    "X_train, X_test, y_train, y_test = train_test_split(X_w_treatment, outcome, test_size=0.2)\n",
    "Q_model.fit(X_train, y_train)\n",
    "y_pred = Q_model.predict(X_test)\n",
    "\n",
    "test_mse=mean_squared_error(y_pred, y_test)\n",
    "print(f\"Test MSE of fit model {test_mse}\") \n",
    "baseline_mse=mean_squared_error(y_train.mean()*np.ones_like(y_test), y_test)\n",
    "print(f\"Test MSE of no-covariate model {baseline_mse}\")"
   ]
  },
  {
   "cell_type": "code",
   "execution_count": 192,
   "metadata": {
    "id": "uq6eZEBXbsaI"
   },
   "outputs": [
    {
     "name": "stdout",
     "output_type": "stream",
     "text": [
      "Test CE of fit model 0.6647822681962453\n",
      "Test CE of no-covariate model 0.6931471805599453\n"
     ]
    }
   ],
   "source": [
    "# specify a model for the propensity score\n",
    "def make_g_model():\n",
    "  return LogisticRegression(max_iter=1000)\n",
    "  # return RandomForestClassifier(n_estimators=100, max_depth=5)\n",
    "  # return GradientBoostingClassifier(n_estimators=100, max_depth=3)\n",
    "\n",
    "g_model = make_g_model()\n",
    "# check that chosen model actually improves test error\n",
    "X_train, X_test, a_train, a_test = train_test_split(confounders, treatment, test_size=0.2, stratify=treatment)\n",
    "g_model.fit(X_train, a_train)\n",
    "a_pred = g_model.predict_proba(X_test)[:,1]\n",
    "\n",
    "test_ce=log_loss(a_test, a_pred)\n",
    "print(f\"Test CE of fit model {test_ce}\") \n",
    "baseline_ce=log_loss(a_test, a_train.mean()*np.ones_like(a_test))\n",
    "print(f\"Test CE of no-covariate model {baseline_ce}\")"
   ]
  },
  {
   "cell_type": "code",
   "execution_count": 193,
   "metadata": {},
   "outputs": [
    {
     "name": "stdout",
     "output_type": "stream",
     "text": [
      "Input('0')<= PERCENT OF HOUSING CROWDED\n",
      "Input('1')<= PERCENT HOUSEHOLDS BELOW POVERTY\n",
      "Input('2')<= PERCENT AGED 16+ UNEMPLOYED\n",
      "Input('3')<= PERCENT AGED 25+ WITHOUT HIGH SCHOOL DIPLOMA\n",
      "Input('4')<= PERCENT AGED UNDER 18 OR OVER 64\n",
      "Input('5')<= Unemployment\n",
      "Input('6')<= PER CAPITA INCOME \n",
      "Input('7')<= Crowded Housing\n",
      "Input('8')<= Below Poverty Level\n",
      "Input('9')<= Dependency\n",
      "Input('10')<= No High School Diploma\n",
      "Input('11')<= HARDSHIP INDEX\n",
      "Input('12')<= Birth Rate\n",
      "Input('13')<= General Fertility Rate\n",
      "Input('14')<= Low Birth Weight\n",
      "Input('15')<= Prenatal Care Beginning in First Trimester\n",
      "Input('16')<= Preterm Births\n",
      "Input('17')<= Teen Birth Rate\n",
      "Input('18')<= Breast cancer in females\n",
      "Input('19')<= Cancer (All Sites)\n",
      "Input('20')<= Colorectal Cancer\n",
      "Input('21')<= Diabetes-related\n",
      "Input('22')<= Infant Mortality Rate\n",
      "Input('23')<= Lung Cancer\n",
      "Input('24')<= Prostate Cancer in Males\n",
      "Input('25')<= Stroke (Cerebrovascular Disease)\n",
      "Input('26')<= Year\n",
      "Input('27')<= Childhood Blood Lead Level Screening\n",
      "Input('28')<= Childhood Lead Poisoning\n",
      "Input('29')<= Tuberculosis\n",
      "Input('30')<= num old crimes\n",
      "Input('31')<= treatment\n",
      "g model feature importances increasing:  [[ 6  0 19 22  2 25  9 11 17 13 29 16  1 28 27  8 15  3 20 26 14  5 21 24\n",
      "  12 10 18 23  7  4 30]]\n",
      "Q model feature importances increasing:  [22 17 19 11 31  1  0 10  6  9]\n"
     ]
    }
   ],
   "source": [
    "# # Compute feature importances\n",
    "for index, value in enumerate(X_w_treatment):\n",
    "   print(f\"Input('{index}')<= {value}\")\n",
    "if type(g_model) == RandomForestClassifier or type(g_model) == GradientBoostingClassifier:\n",
    "    propensity_importances = g_model.feature_importances_\n",
    "    print(\"g model feature importances increasing: \", np.argsort(propensity_importances)[-10:])\n",
    "if type(g_model) == LogisticRegression:\n",
    "    print(\"g model feature importances increasing: \", np.argsort(g_model.coef_)[-10:])\n",
    "\n",
    "if type(Q_model) == LinearRegression:\n",
    "    print(\"Q model feature importances increasing: \", np.argsort(Q_model.coef_)[-10:])\n",
    "if type (Q_model) == RandomForestRegressor or type (Q_model) == GradientBoostingRegressor:\n",
    "    outcome_importances = Q_model.feature_importances_\n",
    "    print(\"Q model feature importances increasing: \", np.argsort(outcome_importances)[-10:])"
   ]
  },
  {
   "cell_type": "markdown",
   "metadata": {
    "id": "2RkvV_4_dFWo"
   },
   "source": [
    "## Use cross fitting to get get predicted outcomes and propensity scores for each unit"
   ]
  },
  {
   "cell_type": "code",
   "execution_count": 194,
   "metadata": {
    "id": "KA0AsEGJ_X3b"
   },
   "outputs": [],
   "source": [
    "# helper functions to implement the cross fitting\n",
    "\n",
    "def treatment_k_fold_fit_and_predict(make_model, X:pd.DataFrame, A:np.array, n_splits:int):\n",
    "    \"\"\"\n",
    "    Implements K fold cross-fitting for the model predicting the treatment A. \n",
    "    That is, \n",
    "    1. Split data into K folds\n",
    "    2. For each fold j, the model is fit on the other K-1 folds\n",
    "    3. The fitted model is used to make predictions for each data point in fold j\n",
    "    Returns an array containing the predictions  \n",
    "\n",
    "    Args:\n",
    "    model: function that returns sklearn model (which implements fit and predict_prob)\n",
    "    X: dataframe of variables to adjust for\n",
    "    A: array of treatments\n",
    "    n_splits: number of splits to use\n",
    "    \"\"\"\n",
    "    predictions = np.full_like(A, np.nan, dtype=float)\n",
    "    kf = StratifiedKFold(n_splits=n_splits, shuffle=True, random_state=RANDOM_SEED)\n",
    "    \n",
    "    for train_index, test_index in kf.split(X, A):\n",
    "      X_train = X.loc[train_index]\n",
    "      A_train = A.loc[train_index]\n",
    "      g = make_model()\n",
    "      g.fit(X_train, A_train)\n",
    "\n",
    "      # get predictions for split\n",
    "      predictions[test_index] = g.predict_proba(X.loc[test_index])[:, 1]\n",
    "\n",
    "    assert np.isnan(predictions).sum() == 0\n",
    "    return predictions\n",
    "\n",
    "\n",
    "def outcome_k_fold_fit_and_predict(make_model, X:pd.DataFrame, y:np.array, A:np.array, n_splits:int, output_type:str):\n",
    "    \"\"\"\n",
    "    Implements K fold cross-fitting for the model predicting the outcome Y. \n",
    "    That is, \n",
    "    1. Split data into K folds\n",
    "    2. For each fold j, the model is fit on the other K-1 folds\n",
    "    3. The fitted model is used to make predictions for each data point in fold j\n",
    "    Returns two arrays containing the predictions for all units untreated, all units treated  \n",
    "\n",
    "    Args:\n",
    "    model: function that returns sklearn model (that implements fit and either predict_prob or predict)\n",
    "    X: dataframe of variables to adjust for\n",
    "    y: array of outcomes\n",
    "    A: array of treatments\n",
    "    n_splits: number of splits to use\n",
    "    output_type: type of outcome, \"binary\" or \"continuous\"\n",
    "\n",
    "    \"\"\"\n",
    "    predictions0 = np.full_like(A, np.nan, dtype=float)\n",
    "    predictions1 = np.full_like(y, np.nan, dtype=float)\n",
    "    if output_type == 'binary':\n",
    "      kf = StratifiedKFold(n_splits=n_splits, shuffle=True, random_state=RANDOM_SEED)\n",
    "    elif output_type == 'continuous':\n",
    "      kf = KFold(n_splits=n_splits, shuffle=True, random_state=RANDOM_SEED)\n",
    "\n",
    "    # include the treatment as input feature\n",
    "    X_w_treatment = X.copy()\n",
    "    X_w_treatment[\"A\"] = A\n",
    "\n",
    "    # for predicting effect under treatment / control status for each data point \n",
    "    X0 = X_w_treatment.copy()\n",
    "    X0[\"A\"] = 0\n",
    "    X1 = X_w_treatment.copy()\n",
    "    X1[\"A\"] = 1\n",
    "\n",
    "    \n",
    "    for train_index, test_index in kf.split(X_w_treatment, y):\n",
    "      X_train = X_w_treatment.loc[train_index]\n",
    "      y_train = y.loc[train_index]\n",
    "      q = make_model()\n",
    "      q.fit(X_train, y_train)\n",
    "\n",
    "      if output_type =='binary':\n",
    "        predictions0[test_index] = q.predict_proba(X0.loc[test_index])[:, 1]\n",
    "        predictions1[test_index] = q.predict_proba(X1.loc[test_index])[:, 1]\n",
    "      elif output_type == 'continuous':\n",
    "        predictions0[test_index] = q.predict(X0.loc[test_index])\n",
    "        predictions1[test_index] = q.predict(X1.loc[test_index])\n",
    "\n",
    "    assert np.isnan(predictions0).sum() == 0\n",
    "    assert np.isnan(predictions1).sum() == 0\n",
    "    return predictions0, predictions1"
   ]
  },
  {
   "cell_type": "code",
   "execution_count": 195,
   "metadata": {
    "id": "wVcE6pRQeMNf"
   },
   "outputs": [
    {
     "data": {
      "text/plain": [
       "Text(0, 0.5, 'Count')"
      ]
     },
     "execution_count": 195,
     "metadata": {},
     "output_type": "execute_result"
    },
    {
     "data": {
      "image/png": "[encoded data removed]",
      "text/plain": [
       "<Figure size 640x480 with 1 Axes>"
      ]
     },
     "metadata": {},
     "output_type": "display_data"
    }
   ],
   "source": [
    "# get propensity scores\n",
    "g = treatment_k_fold_fit_and_predict(make_g_model, X=confounders, A=treatment, n_splits=5)\n",
    "plt.hist(g, density=True)\n",
    "plt.xlabel('Propensity Score g(x)')\n",
    "plt.ylabel('Count') "
   ]
  },
  {
   "cell_type": "code",
   "execution_count": 196,
   "metadata": {
    "id": "GLEHlLLdWSh9"
   },
   "outputs": [],
   "source": [
    "Q0,Q1=outcome_k_fold_fit_and_predict(make_Q_model, X=confounders, y=outcome, A=treatment, n_splits=10, output_type=\"continuous\")"
   ]
  },
  {
   "cell_type": "code",
   "execution_count": 197,
   "metadata": {
    "id": "_NVCV0q0g8wQ"
   },
   "outputs": [
    {
     "data": {
      "text/html": [
       "<div>\n",
       "<style scoped>\n",
       "    .dataframe tbody tr th:only-of-type {\n",
       "        vertical-align: middle;\n",
       "    }\n",
       "\n",
       "    .dataframe tbody tr th {\n",
       "        vertical-align: top;\n",
       "    }\n",
       "\n",
       "    .dataframe thead th {\n",
       "        text-align: right;\n",
       "    }\n",
       "</style>\n",
       "<table border=\"1\" class=\"dataframe\">\n",
       "  <thead>\n",
       "    <tr style=\"text-align: right;\">\n",
       "      <th></th>\n",
       "      <th>g</th>\n",
       "      <th>Q0</th>\n",
       "      <th>Q1</th>\n",
       "      <th>A</th>\n",
       "      <th>Y</th>\n",
       "    </tr>\n",
       "  </thead>\n",
       "  <tbody>\n",
       "    <tr>\n",
       "      <th>0</th>\n",
       "      <td>0.612810</td>\n",
       "      <td>-126.777160</td>\n",
       "      <td>-17.248633</td>\n",
       "      <td>1</td>\n",
       "      <td>-821.0</td>\n",
       "    </tr>\n",
       "    <tr>\n",
       "      <th>1</th>\n",
       "      <td>0.505585</td>\n",
       "      <td>-98.465398</td>\n",
       "      <td>9.256993</td>\n",
       "      <td>1</td>\n",
       "      <td>231.0</td>\n",
       "    </tr>\n",
       "    <tr>\n",
       "      <th>2</th>\n",
       "      <td>0.592189</td>\n",
       "      <td>-189.226253</td>\n",
       "      <td>-88.528486</td>\n",
       "      <td>1</td>\n",
       "      <td>9.0</td>\n",
       "    </tr>\n",
       "    <tr>\n",
       "      <th>3</th>\n",
       "      <td>0.600214</td>\n",
       "      <td>50.707176</td>\n",
       "      <td>156.566464</td>\n",
       "      <td>1</td>\n",
       "      <td>-378.0</td>\n",
       "    </tr>\n",
       "    <tr>\n",
       "      <th>4</th>\n",
       "      <td>0.589955</td>\n",
       "      <td>-240.354903</td>\n",
       "      <td>-144.633823</td>\n",
       "      <td>1</td>\n",
       "      <td>133.0</td>\n",
       "    </tr>\n",
       "  </tbody>\n",
       "</table>\n",
       "</div>"
      ],
      "text/plain": [
       "          g          Q0          Q1  A      Y\n",
       "0  0.612810 -126.777160  -17.248633  1 -821.0\n",
       "1  0.505585  -98.465398    9.256993  1  231.0\n",
       "2  0.592189 -189.226253  -88.528486  1    9.0\n",
       "3  0.600214   50.707176  156.566464  1 -378.0\n",
       "4  0.589955 -240.354903 -144.633823  1  133.0"
      ]
     },
     "execution_count": 197,
     "metadata": {},
     "output_type": "execute_result"
    }
   ],
   "source": [
    "data_and_nuisance_estimates = pd.DataFrame({'g': g, 'Q0': Q0, 'Q1': Q1, 'A': treatment, 'Y': outcome})\n",
    "data_and_nuisance_estimates.head()"
   ]
  },
  {
   "cell_type": "markdown",
   "metadata": {
    "id": "VNhM7URdgzQB"
   },
   "source": [
    "## Combine predicted values and data into estimate of ATE"
   ]
  },
  {
   "cell_type": "code",
   "execution_count": 198,
   "metadata": {
    "id": "O_F5r0SSkzzK"
   },
   "outputs": [],
   "source": [
    "def ate_aiptw(Q0, Q1, g, A, Y, prob_t=None):\n",
    "  \"\"\"\n",
    "  # Double ML estimator for the ATE\n",
    "  \"\"\"\n",
    "\n",
    "  tau_hat = (Q1 - Q0 + A*(Y-Q1)/g - (1-A)*(Y-Q0)/(1-g)).mean()\n",
    "  \n",
    "  scores = Q1 - Q0 + A*(Y-Q1)/g - (1-A)*(Y-Q0)/(1-g) - tau_hat\n",
    "  n = Y.shape[0] # number of observations\n",
    "  std_hat = np.std(scores) / np.sqrt(n)\n",
    "\n",
    "  return tau_hat, std_hat\n"
   ]
  },
  {
   "cell_type": "code",
   "execution_count": 199,
   "metadata": {
    "id": "SjDj0F9Bm9uq"
   },
   "outputs": [
    {
     "name": "stdout",
     "output_type": "stream",
     "text": [
      "The estimate is 133.45590395286894 pm 53.05113235325124\n"
     ]
    }
   ],
   "source": [
    "tau_hat, std_hat = ate_aiptw(**data_and_nuisance_estimates)\n",
    "print(f\"The estimate is {tau_hat} pm {1.96*std_hat}\")"
   ]
  },
  {
   "cell_type": "markdown",
   "metadata": {
    "id": "L_GUa-5vMmL4"
   },
   "source": [
    "#Sensitivity Analysis\n",
    "\n",
    "We use the 0.95 CI level as the target bias"
   ]
  },
  {
   "cell_type": "code",
   "execution_count": 200,
   "metadata": {
    "id": "zEv_RlkUNQZ9"
   },
   "outputs": [],
   "source": [
    "# the first step is to choose a level of bias that would undermine the qualitative conclusion of the study\n",
    "# we'll go with the nominal effect\n",
    "target_bias = 1.96*std_hat # lower bound of 0.95 CI\n",
    "# target_bias = 10.0 # note: bias is specified as an absolute number"
   ]
  },
  {
   "cell_type": "markdown",
   "metadata": {
    "id": "bDeSqyvvN3mg"
   },
   "source": [
    "## Compute influence strength of covariates\n",
    "Our task is to assess whether it's plausible that an unobserved confounder could be strong enough to induce a bias of 2 or more. To make that easier, we'd like to know how strong the observed confounders are. Austen plots computes these reference strengths by seeing how much model performance degrades when the covariates are removed. Accordingly, we refit the models with each (group of) reference covariate removed.  "
   ]
  },
  {
   "cell_type": "code",
   "execution_count": 201,
   "metadata": {
    "id": "b_51ei-JOIrn"
   },
   "outputs": [],
   "source": [
    "# First, lets define the groups of covariates we'll measure the strength of.\n",
    "# Note: it's important to group the covariates into meaningful groups, because strength is measured conditional on all remaining covariates\n",
    "# E.g., if we remove only \"black\" (and not \"hispanic, white\") then we will measure no effect, because we can infer the removed variable from the remaining ones\n",
    "\n",
    "covariate_groups = {\n",
    "    'socioeconomic': ['PERCENT OF HOUSING CROWDED', 'PERCENT HOUSEHOLDS BELOW POVERTY',\n",
    "       'PERCENT AGED 16+ UNEMPLOYED', 'PERCENT AGED 25+ WITHOUT HIGH SCHOOL DIPLOMA',\n",
    "       'PERCENT AGED UNDER 18 OR OVER 64', 'Unemployment', 'PER CAPITA INCOME ', 'Crowded Housing',\n",
    "       'Below Poverty Level', 'Dependency',\n",
    "       'No High School Diploma', 'HARDSHIP INDEX'],\n",
    "    'population health': ['Birth Rate', 'General Fertility Rate',\n",
    "       'Low Birth Weight', 'Prenatal Care Beginning in First Trimester',\n",
    "       'Preterm Births', 'Teen Birth Rate', 'Breast cancer in females',\n",
    "       'Cancer (All Sites)', 'Colorectal Cancer', 'Diabetes-related',\n",
    "       'Infant Mortality Rate', 'Lung Cancer', 'Prostate Cancer in Males',\n",
    "       'Stroke (Cerebrovascular Disease)',\n",
    "       'Childhood Blood Lead Level Screening', 'Childhood Lead Poisoning', 'Tuberculosis'],\n",
    "    'previous crime rate': ['num old crimes'],\n",
    "    'year': ['Year']}"
   ]
  },
  {
   "cell_type": "code",
   "execution_count": 202,
   "metadata": {
    "id": "eLskfBqCQlwZ"
   },
   "outputs": [],
   "source": [
    "# For each covariate group, refit the models without using that group\n",
    "nuisance_estimates = {}\n",
    "for group, covs in covariate_groups.items():\n",
    "  remaining_confounders = confounders.drop(columns=covs)\n",
    "\n",
    "  g = treatment_k_fold_fit_and_predict(make_g_model, X=remaining_confounders, A=treatment, n_splits=5)\n",
    "  Q0, Q1 = outcome_k_fold_fit_and_predict(make_Q_model, X=remaining_confounders, y=outcome, A=treatment, n_splits=5, output_type=\"continuous\")\n",
    "\n",
    "  data_and_nuisance_estimates = pd.DataFrame({'g': g, 'Q0': Q0, 'Q1': Q1, 'A': treatment, 'Y': outcome})\n",
    "  nuisance_estimates[group] = data_and_nuisance_estimates\n"
   ]
  },
  {
   "cell_type": "markdown",
   "metadata": {
    "id": "73aTyanbTihM"
   },
   "source": [
    "## Save computed estimates as CSVs\n",
    "The Austen plot code expects the nuisance function estimates to be provided as csvs with columns 'g', 'Q', 't', 'y'"
   ]
  },
  {
   "cell_type": "code",
   "execution_count": 203,
   "metadata": {
    "id": "Am4bdBMGXhqr"
   },
   "outputs": [],
   "source": [
    "data_and_nuisance_path = 'data_and_nuisance_estimates.csv'\n",
    "covariate_dir_path = 'covariates/'"
   ]
  },
  {
   "cell_type": "code",
   "execution_count": 204,
   "metadata": {
    "id": "YJ-QU3gXSqiz"
   },
   "outputs": [],
   "source": [
    "def _convert_to_austen_format(nuisance_estimate_df: pd.DataFrame):\n",
    "  austen_df = pd.DataFrame()\n",
    "  austen_df['y']=nuisance_estimate_df['Y']\n",
    "  austen_df['t']=nuisance_estimate_df['A']\n",
    "  austen_df['g']=nuisance_estimate_df['g']\n",
    "  A = nuisance_estimate_df['A']\n",
    "  austen_df['Q']=A*nuisance_estimate_df['Q1'] + (1-A)*nuisance_estimate_df['Q0'] # use Q1 when A=1, and Q0 when A=0\n",
    "\n",
    "  return austen_df"
   ]
  },
  {
   "cell_type": "code",
   "execution_count": 205,
   "metadata": {
    "id": "31BWqKXmVAQr"
   },
   "outputs": [],
   "source": [
    "austen_data_and_nuisance = _convert_to_austen_format(data_and_nuisance_estimates)\n",
    "austen_data_and_nuisance.to_csv(data_and_nuisance_path, index=False)\n",
    "\n",
    "pathlib.Path(covariate_dir_path).mkdir(exist_ok=True)\n",
    "for group, nuisance_estimate in nuisance_estimates.items():\n",
    "  austen_nuisance_estimate = _convert_to_austen_format(nuisance_estimate)\n",
    "  austen_nuisance_estimate.to_csv(os.path.join(covariate_dir_path,group+\".csv\"), index=False)"
   ]
  },
  {
   "cell_type": "markdown",
   "metadata": {
    "id": "C84zSBeIVe0L"
   },
   "source": [
    "## Make plots"
   ]
  },
  {
   "cell_type": "code",
   "execution_count": 206,
   "metadata": {
    "id": "2C0cixtvVhmD"
   },
   "outputs": [],
   "source": [
    "ap = AustenPlot(data_and_nuisance_path, covariate_dir_path)"
   ]
  },
  {
   "cell_type": "code",
   "execution_count": 207,
   "metadata": {
    "id": "JFgN5L6YW0oF"
   },
   "outputs": [
    {
     "name": "stdout",
     "output_type": "stream",
     "text": [
      "Fitting main dataset\n"
     ]
    }
   ],
   "source": [
    "p, plot_coords, variable_coords = ap.fit(bias=target_bias) # we set target_bias to 0.95 CI"
   ]
  },
  {
   "cell_type": "code",
   "execution_count": 208,
   "metadata": {
    "id": "lfPaV4IDckdS"
   },
   "outputs": [
    {
     "data": {
      "image/png": "[encoded data removed]",
      "text/plain": [
       "<Figure size 350x350 with 1 Axes>"
      ]
     },
     "metadata": {},
     "output_type": "display_data"
    },
    {
     "data": {
      "text/plain": [
       "<ggplot: (181719818463)>"
      ]
     },
     "execution_count": 208,
     "metadata": {},
     "output_type": "execute_result"
    }
   ],
   "source": [
    "p"
   ]
  },
  {
   "cell_type": "code",
   "execution_count": null,
   "metadata": {},
   "outputs": [],
   "source": []
  },
  {
   "cell_type": "code",
   "execution_count": null,
   "metadata": {},
   "outputs": [],
   "source": []
  },
  {
   "cell_type": "code",
   "execution_count": null,
   "metadata": {},
   "outputs": [],
   "source": []
  }
 ],
 "metadata": {
  "colab": {
   "name": "Sensitivity_Analysis.ipynb",
   "provenance": []
  },
  "kernelspec": {
   "display_name": "Python 3 (ipykernel)",
   "language": "python",
   "name": "python3"
  },
  "language_info": {
   "codemirror_mode": {
    "name": "ipython",
    "version": 3
   },
   "file_extension": ".py",
   "mimetype": "text/x-python",
   "name": "python",
   "nbconvert_exporter": "python",
   "pygments_lexer": "ipython3",
   "version": "3.10.6"
  }
 },
 "nbformat": 4,
 "nbformat_minor": 4
}
